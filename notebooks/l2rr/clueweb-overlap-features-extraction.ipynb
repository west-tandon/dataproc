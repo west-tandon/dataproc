{
 "cells": [
  {
   "cell_type": "code",
   "execution_count": 94,
   "metadata": {},
   "outputs": [],
   "source": [
    "import functools\n",
    "import operator\n",
    "import subprocess\n",
    "\n",
    "import pandas as pd\n",
    "import pyarrow as pa\n",
    "import pyarrow.parquet as pq\n",
    "import numpy as np\n",
    "import matplotlib.pyplot as plt\n",
    "from sklearn.preprocessing import StandardScaler\n",
    "\n",
    "from dataproc.data import to_svmrank, scale_features, to_trec\n",
    "\n",
    "def load_results(basename, buckets=1):\n",
    "    return pd.concat([\n",
    "        pq.read_table(f'{basename}#{shard}.results-{buckets}').to_pandas()\n",
    "        for shard in range(123)\n",
    "    ])"
   ]
  },
  {
   "cell_type": "code",
   "execution_count": 52,
   "metadata": {},
   "outputs": [],
   "source": [
    "feature_dir = '/mnt/moa/michal/experiments/oss/cw09b-dai/features/train-mq'"
   ]
  },
  {
   "cell_type": "code",
   "execution_count": 53,
   "metadata": {
    "scrolled": true
   },
   "outputs": [],
   "source": [
    "exhaustive_results = pq.read_table(f'{feature_dir}/mq.10k.clean.or.results',\n",
    "                                   columns=['query', 'rank', 'gdocid', 'score']).to_pandas()"
   ]
  },
  {
   "cell_type": "code",
   "execution_count": 54,
   "metadata": {},
   "outputs": [],
   "source": [
    "shard_results = load_results(f'{feature_dir}/mq.10k.clean.or')\n",
    "titles = pd.read_csv('/mnt/moa/index/dai/full/cw09b.titles', names=['title'])\n",
    "titles.index.name = 'gdocid'\n",
    "titles.reset_index(inplace=True)\n",
    "shard_results = pd.merge(shard_results, titles, on='gdocid')\n",
    "shard_results['query'] += 1\n",
    "shard_results = shard_results[['query', 'shard', 'rank', 'score', 'title']].sort_values(['query', 'shard'])"
   ]
  },
  {
   "cell_type": "markdown",
   "metadata": {},
   "source": [
    "# Ground Truth\n",
    "\n",
    "## FAST"
   ]
  },
  {
   "cell_type": "code",
   "execution_count": 55,
   "metadata": {},
   "outputs": [],
   "source": [
    "ground_truths = []\n",
    "for shard in range(123):\n",
    "    shard_results = pq.read_table(f'{feature_dir}/mq.10k.clean.or#{shard}.results-1',\n",
    "                                 columns=['query', 'gdocid']).to_pandas()\n",
    "    ground_truths.append(pd.merge(shard_results, exhaustive_results, on=['query', 'gdocid'], how='left')\n",
    "                         .groupby('query')['rank']\n",
    "                         .count()\n",
    "                         .reset_index()\n",
    "                         .assign(shard=shard))\n",
    "    del shard_results\n",
    "gt = pd.concat(ground_truths).rename(columns={'rank': 'shard_score'}).sort_values(['query', 'shard'])\n",
    "gt['rank'] = gt.groupby(['query']).rank(method='first', ascending=False)['shard_score']\n",
    "gt = gt.astype({'rank': np.int})\n",
    "gt.to_csv(f'{feature_dir}/ground_truth.csv', index=False)\n",
    "del ground_truths"
   ]
  },
  {
   "cell_type": "code",
   "execution_count": 4,
   "metadata": {},
   "outputs": [],
   "source": [
    "gt = pd.read_csv(f'{feature_dir}/ground_truth.csv')"
   ]
  },
  {
   "cell_type": "markdown",
   "metadata": {},
   "source": [
    "## B = 10"
   ]
  },
  {
   "cell_type": "code",
   "execution_count": 99,
   "metadata": {},
   "outputs": [],
   "source": [
    "ground_truths = []\n",
    "for shard in range(123):\n",
    "    shard_results = pq.read_table(f'{feature_dir}/mq.10k.clean.or#{shard}.results-10',\n",
    "                                 columns=['query', 'bucket', 'gdocid']).to_pandas()\n",
    "    ground_truths.append(pd.merge(shard_results, exhaustive_results, on=['query', 'gdocid'], how='left')\n",
    "                         .groupby(['query', 'bucket'])['rank']\n",
    "                         .count()\n",
    "                         .reset_index()\n",
    "                         .assign(shard=shard))\n",
    "    del shard_results\n",
    "gt_b10 = pd.concat(ground_truths).rename(columns={'rank': 'shard_score'}).sort_values(['query', 'shard', 'bucket'])\n",
    "gt_b10['rank'] = gt_b10.groupby(['query']).rank(method='first', ascending=False)['shard_score']\n",
    "gt_b10 = gt_b10.astype({'rank': np.int})\n",
    "gt_b10.to_csv(f'{feature_dir}/ground_truth_b10.csv', index=False)\n",
    "del ground_truths"
   ]
  },
  {
   "cell_type": "code",
   "execution_count": 100,
   "metadata": {},
   "outputs": [
    {
     "data": {
      "text/html": [
       "<div>\n",
       "<style scoped>\n",
       "    .dataframe tbody tr th:only-of-type {\n",
       "        vertical-align: middle;\n",
       "    }\n",
       "\n",
       "    .dataframe tbody tr th {\n",
       "        vertical-align: top;\n",
       "    }\n",
       "\n",
       "    .dataframe thead th {\n",
       "        text-align: right;\n",
       "    }\n",
       "</style>\n",
       "<table border=\"1\" class=\"dataframe\">\n",
       "  <thead>\n",
       "    <tr style=\"text-align: right;\">\n",
       "      <th></th>\n",
       "      <th>query</th>\n",
       "      <th>shard_score</th>\n",
       "      <th>shard</th>\n",
       "      <th>rank</th>\n",
       "    </tr>\n",
       "    <tr>\n",
       "      <th>bucket</th>\n",
       "      <th></th>\n",
       "      <th></th>\n",
       "      <th></th>\n",
       "      <th></th>\n",
       "    </tr>\n",
       "  </thead>\n",
       "  <tbody>\n",
       "    <tr>\n",
       "      <th>0</th>\n",
       "      <td>4997.163639</td>\n",
       "      <td>0.168051</td>\n",
       "      <td>60.985967</td>\n",
       "      <td>584.835633</td>\n",
       "    </tr>\n",
       "    <tr>\n",
       "      <th>1</th>\n",
       "      <td>4997.699947</td>\n",
       "      <td>0.090439</td>\n",
       "      <td>60.966226</td>\n",
       "      <td>595.651787</td>\n",
       "    </tr>\n",
       "    <tr>\n",
       "      <th>2</th>\n",
       "      <td>4998.703202</td>\n",
       "      <td>0.060158</td>\n",
       "      <td>60.965716</td>\n",
       "      <td>599.510520</td>\n",
       "    </tr>\n",
       "    <tr>\n",
       "      <th>3</th>\n",
       "      <td>4998.689790</td>\n",
       "      <td>0.039580</td>\n",
       "      <td>60.863846</td>\n",
       "      <td>604.145185</td>\n",
       "    </tr>\n",
       "    <tr>\n",
       "      <th>4</th>\n",
       "      <td>4998.871128</td>\n",
       "      <td>0.024616</td>\n",
       "      <td>60.952825</td>\n",
       "      <td>608.292556</td>\n",
       "    </tr>\n",
       "    <tr>\n",
       "      <th>5</th>\n",
       "      <td>4999.824075</td>\n",
       "      <td>0.011336</td>\n",
       "      <td>60.941121</td>\n",
       "      <td>612.897846</td>\n",
       "    </tr>\n",
       "    <tr>\n",
       "      <th>6</th>\n",
       "      <td>4999.530790</td>\n",
       "      <td>0.007028</td>\n",
       "      <td>60.945644</td>\n",
       "      <td>614.494820</td>\n",
       "    </tr>\n",
       "    <tr>\n",
       "      <th>7</th>\n",
       "      <td>4999.705895</td>\n",
       "      <td>0.005828</td>\n",
       "      <td>60.929626</td>\n",
       "      <td>614.859951</td>\n",
       "    </tr>\n",
       "    <tr>\n",
       "      <th>8</th>\n",
       "      <td>4999.281596</td>\n",
       "      <td>0.005336</td>\n",
       "      <td>60.938356</td>\n",
       "      <td>617.132443</td>\n",
       "    </tr>\n",
       "    <tr>\n",
       "      <th>9</th>\n",
       "      <td>4999.256580</td>\n",
       "      <td>0.005838</td>\n",
       "      <td>60.940179</td>\n",
       "      <td>618.453414</td>\n",
       "    </tr>\n",
       "  </tbody>\n",
       "</table>\n",
       "</div>"
      ],
      "text/plain": [
       "              query  shard_score      shard        rank\n",
       "bucket                                                 \n",
       "0       4997.163639     0.168051  60.985967  584.835633\n",
       "1       4997.699947     0.090439  60.966226  595.651787\n",
       "2       4998.703202     0.060158  60.965716  599.510520\n",
       "3       4998.689790     0.039580  60.863846  604.145185\n",
       "4       4998.871128     0.024616  60.952825  608.292556\n",
       "5       4999.824075     0.011336  60.941121  612.897846\n",
       "6       4999.530790     0.007028  60.945644  614.494820\n",
       "7       4999.705895     0.005828  60.929626  614.859951\n",
       "8       4999.281596     0.005336  60.938356  617.132443\n",
       "9       4999.256580     0.005838  60.940179  618.453414"
      ]
     },
     "execution_count": 100,
     "metadata": {},
     "output_type": "execute_result"
    }
   ],
   "source": [
    "gt_b10.groupby('bucket').mean()"
   ]
  },
  {
   "cell_type": "markdown",
   "metadata": {},
   "source": [
    "# Shard Popularity"
   ]
  },
  {
   "cell_type": "code",
   "execution_count": 56,
   "metadata": {},
   "outputs": [],
   "source": [
    "clustering_strategy = pd.read_csv(f'{feature_dir}/strategy.csv')"
   ]
  },
  {
   "cell_type": "code",
   "execution_count": 57,
   "metadata": {},
   "outputs": [],
   "source": [
    "shard_popularity = (pd.merge(exhaustive_results, clustering_strategy, on='gdocid')\n",
    "                    .groupby('shard')['gdocid']\n",
    "                    .agg([('popularity', 'count')])\n",
    "                    .reset_index())\n",
    "shard_popularity.to_csv(f'{feature_dir}/shard_popularity.csv', index=False)"
   ]
  },
  {
   "cell_type": "markdown",
   "metadata": {},
   "source": [
    "# Term-Based Statistics"
   ]
  },
  {
   "cell_type": "code",
   "execution_count": 58,
   "metadata": {},
   "outputs": [],
   "source": [
    "def calc_taily_features(taily_scores):\n",
    "    tf = taily_scores.copy()\n",
    "    tf['rank'] = tf.groupby('query').rank(method='first', ascending=False)['taily']\n",
    "    tf['invrank'] = 1 / tf['rank']\n",
    "    tf['binrank'] = np.ceil(tf['rank'] / 10)\n",
    "    return tf\n",
    "\n",
    "taily = pq.read_table(f'{feature_dir}/mq.10k.clean.or.taily').to_pandas()\n",
    "taily_features = calc_taily_features(taily)\n",
    "taily_features.to_csv(f'{feature_dir}/taily_features.csv', index=False)"
   ]
  },
  {
   "cell_type": "code",
   "execution_count": 59,
   "metadata": {},
   "outputs": [],
   "source": [
    "champion_lists = pd.read_csv(f'{feature_dir}/champion-lists.csv')\n",
    "\n",
    "ql_body = pd.read_csv(f'{feature_dir}/query-likelihood.text.csv')\n",
    "ql_title = pd.read_csv(f'{feature_dir}/query-likelihood.title.csv')\n",
    "ql_anchor = pd.read_csv(f'{feature_dir}/query-likelihood.anchor.csv')\n",
    "ql = pd.merge(ql_body, ql_title, on=['query', 'shard'], suffixes=['', '-title'])\n",
    "ql = pd.merge(ql, ql_anchor, on=['query', 'shard'], suffixes=['-body', '-anchor'])\n",
    "del ql_body\n",
    "del ql_title\n",
    "del ql_anchor"
   ]
  },
  {
   "cell_type": "code",
   "execution_count": 60,
   "metadata": {},
   "outputs": [],
   "source": [
    "qts_body = pd.read_csv(f'{feature_dir}/query-term-stats.text.csv')\n",
    "qts_title = pd.read_csv(f'{feature_dir}/query-term-stats.title.csv')\n",
    "qts_anchor = pd.read_csv(f'{feature_dir}/query-term-stats.anchor.csv')\n",
    "qts = pd.merge(qts_body, qts_title, on=['query', 'shard'], suffixes=['', '-title'])\n",
    "qts = pd.merge(qts, qts_anchor, on=['query', 'shard'], suffixes=['-body', '-anchor'])\n",
    "del qts_body\n",
    "del qts_title\n",
    "del qts_anchor"
   ]
  },
  {
   "cell_type": "code",
   "execution_count": 61,
   "metadata": {},
   "outputs": [],
   "source": [
    "bilogfq = pd.read_csv(f'{feature_dir}/bigram-log-frequency.text.csv')"
   ]
  },
  {
   "cell_type": "markdown",
   "metadata": {},
   "source": [
    "# Cost Models"
   ]
  },
  {
   "cell_type": "code",
   "execution_count": 54,
   "metadata": {
    "collapsed": true
   },
   "outputs": [],
   "source": [
    "shard_size_costs = pd.read_csv('/data/index/dai/shard-sizes.csv')\n",
    "shard_size_costs['cost'] = shard_size_costs['shard_size'] * 100 / shard_size_costs['shard_size'].sum()\n",
    "shard_size_costs.drop(columns=['shard_size']).to_csv(f'{feature_dir}/shard-size-costs.csv', index=False)"
   ]
  },
  {
   "cell_type": "code",
   "execution_count": 101,
   "metadata": {},
   "outputs": [],
   "source": [
    "posting_costs = []\n",
    "for shard in range(123):\n",
    "    shard_costs = pq.read_table(f'{feature_dir}/mq.10k.clean.or#{shard}.postingcost-1',\n",
    "                                columns=['query', 'shard', 'postingcost']).to_pandas()\n",
    "    posting_costs.append(shard_costs)\n",
    "    del shard_costs\n",
    "posting_costs = pd.concat(posting_costs).sort_values(['query', 'shard'])\n",
    "\n",
    "posting_costs_b10 = []\n",
    "for shard in range(123):\n",
    "    shard_costs = pq.read_table(f'{feature_dir}/mq.10k.clean.or#{shard}.postingcost-10',\n",
    "                                columns=['query', 'shard', 'postingcost']).to_pandas()\n",
    "    posting_costs_b10.append(shard_costs)\n",
    "    del shard_costs\n",
    "posting_costs_b10 = pd.concat(posting_costs_b10).sort_values(['query', 'shard'])"
   ]
  },
  {
   "cell_type": "code",
   "execution_count": 63,
   "metadata": {},
   "outputs": [],
   "source": [
    "sc = pd.merge(gt, posting_costs).sort_values(['query', 'rank'])"
   ]
  },
  {
   "cell_type": "code",
   "execution_count": 64,
   "metadata": {},
   "outputs": [],
   "source": [
    "with open(f'{feature_dir}/mq.10k.clean.or.rankcost', 'w') as f:\n",
    "    for query, group in sc.groupby('query'):\n",
    "        for _, row in group.iterrows():\n",
    "            print(row.shard, row.postingcost, file=f)\n",
    "        print(file=f)"
   ]
  },
  {
   "cell_type": "markdown",
   "metadata": {},
   "source": [
    "# Train\n",
    "\n",
    "### FAST"
   ]
  },
  {
   "cell_type": "code",
   "execution_count": 66,
   "metadata": {},
   "outputs": [
    {
     "data": {
      "text/plain": [
       "CompletedProcess(args=['svm_rank_learn', '-c', '1', '-t', '0', '/mnt/moa/michal/experiments/oss/cw09b-dai/features/train-mq/fast.features.svmrank', '/mnt/moa/michal/experiments/oss/cw09b-dai/features/train-mq/fast.features.model'], returncode=0)"
      ]
     },
     "execution_count": 66,
     "metadata": {},
     "output_type": "execute_result"
    }
   ],
   "source": [
    "df = gt[['query', 'shard', 'shard_score']]\n",
    "df = pd.merge(df, shard_popularity[['shard', 'popularity']])\n",
    "df = pd.merge(df, taily_features[['query', 'shard', 'taily', 'invrank', 'binrank']])\n",
    "df = pd.merge(df, champion_lists)\n",
    "df = pd.merge(df, ql)\n",
    "df = pd.merge(df, qts)\n",
    "df = pd.merge(df, bilogfq)\n",
    "df['query'] += 1\n",
    "df, scaler = scale_features(df, exclude=['query', 'shard', 'shard_score'],\n",
    "                            scaler=StandardScaler())\n",
    "to_svmrank(df.sort_values(['query', 'shard']), f'{feature_dir}/fast.features.svmrank')\n",
    "\n",
    "def run_subprocess(cmd):\n",
    "    return subprocess.run(cmd.split())\n",
    "\n",
    "model_path = f'{feature_dir}/fast.features.model'\n",
    "run_subprocess(f'svm_rank_learn -c 1 -t 0 {feature_dir}/fast.features.svmrank {model_path}')"
   ]
  },
  {
   "cell_type": "markdown",
   "metadata": {},
   "source": [
    "### B=10"
   ]
  },
  {
   "cell_type": "code",
   "execution_count": 102,
   "metadata": {},
   "outputs": [
    {
     "data": {
      "text/plain": [
       "CompletedProcess(args=['svm_rank_learn', '-c', '1', '-t', '0', '/mnt/moa/michal/experiments/oss/cw09b-dai/features/train-mq/b10.features.svmrank', '/mnt/moa/michal/experiments/oss/cw09b-dai/features/train-mq/b10.features.model'], returncode=0)"
      ]
     },
     "execution_count": 102,
     "metadata": {},
     "output_type": "execute_result"
    }
   ],
   "source": [
    "df = gt_b10[['query', 'shard', 'bucket', 'shard_score']]\n",
    "df = pd.merge(df, shard_popularity[['shard', 'popularity']])\n",
    "df = pd.merge(df, taily_features[['query', 'shard', 'taily', 'invrank', 'binrank']])\n",
    "df = pd.merge(df, champion_lists)\n",
    "df = pd.merge(df, ql)\n",
    "df = pd.merge(df, qts)\n",
    "df = pd.merge(df, bilogfq)\n",
    "df['query'] += 1\n",
    "df, scaler_b10 = scale_features(df, exclude=['query', 'shard', 'bucket', 'shard_score'],\n",
    "                            scaler=StandardScaler())\n",
    "to_svmrank(df.sort_values(['query', 'shard', 'bucket']), f'{feature_dir}/b10.features.svmrank')\n",
    "\n",
    "def run_subprocess(cmd):\n",
    "    return subprocess.run(cmd.split())\n",
    "\n",
    "model_path = f'{feature_dir}/b10.features.model'\n",
    "run_subprocess(f'svm_rank_learn -c 1 -t 0 {feature_dir}/b10.features.svmrank {model_path}')"
   ]
  },
  {
   "cell_type": "markdown",
   "metadata": {},
   "source": [
    "# Predict\n",
    "\n",
    "### FAST"
   ]
  },
  {
   "cell_type": "code",
   "execution_count": 67,
   "metadata": {},
   "outputs": [
    {
     "data": {
      "text/plain": [
       "CompletedProcess(args=['svm_rank_classify', '/mnt/moa/michal/experiments/oss/cw09b-dai/features/train-mq/fast.eval.svmrank', '/mnt/moa/michal/experiments/oss/cw09b-dai/features/train-mq/fast.features.model', 'fast.eval.predict'], returncode=0)"
      ]
     },
     "execution_count": 67,
     "metadata": {},
     "output_type": "execute_result"
    }
   ],
   "source": [
    "eval_features = pd.read_csv('/mnt/moa/michal/experiments/oss/cw09b-dai/features/trec/fast.features.csv')\n",
    "del eval_features['shard_score']\n",
    "eval_features, scaler = scale_features(eval_features, exclude=['query', 'shard'], scaler=scaler)\n",
    "eval_features['shard_score'] = 0\n",
    "to_svmrank(eval_features.sort_values(['query', 'shard']), f'{feature_dir}/fast.eval.svmrank')\n",
    "run_subprocess(f'svm_rank_classify {feature_dir}/fast.eval.svmrank {model_path} fast.eval.predict')"
   ]
  },
  {
   "cell_type": "markdown",
   "metadata": {},
   "source": [
    "### B=10"
   ]
  },
  {
   "cell_type": "code",
   "execution_count": 103,
   "metadata": {},
   "outputs": [
    {
     "data": {
      "text/plain": [
       "CompletedProcess(args=['svm_rank_classify', '/mnt/moa/michal/experiments/oss/cw09b-dai/features/train-mq/b10.eval.svmrank', '/mnt/moa/michal/experiments/oss/cw09b-dai/features/train-mq/b10.features.model', 'b10.eval.predict'], returncode=0)"
      ]
     },
     "execution_count": 103,
     "metadata": {},
     "output_type": "execute_result"
    }
   ],
   "source": [
    "eval_features = pd.read_csv('/mnt/moa/michal/experiments/oss/cw09b-dai/features/trec/b10.features.csv')\n",
    "del eval_features['shard_score']\n",
    "eval_features, _ = scale_features(eval_features, exclude=['query', 'shard', 'bucket'], scaler=scaler_b10)\n",
    "eval_features['shard_score'] = 0\n",
    "to_svmrank(eval_features.sort_values(['query', 'shard', 'bucket']), f'{feature_dir}/b10.eval.svmrank')\n",
    "run_subprocess(f'svm_rank_classify {feature_dir}/b10.eval.svmrank {model_path} b10.eval.predict')"
   ]
  },
  {
   "cell_type": "markdown",
   "metadata": {},
   "source": [
    "# Evaluate"
   ]
  },
  {
   "cell_type": "code",
   "execution_count": 104,
   "metadata": {},
   "outputs": [],
   "source": [
    "from dataproc.selectivesearch import select, load_shard_selection, load_bucket_selection\n",
    "\n",
    "shard_results = pq.read_table(f'{feature_dir}/../trec/shard_results.parquet').to_pandas()\n",
    "shard_results = pq.read_table(f'{feature_dir}/../trec/shard_results_b10.parquet').to_pandas()"
   ]
  },
  {
   "cell_type": "code",
   "execution_count": 95,
   "metadata": {},
   "outputs": [],
   "source": [
    "sel = load_shard_selection(list(range(1, 201)), 123, 'fast.eval.predict')\n",
    "sel['cost'] = 1"
   ]
  },
  {
   "cell_type": "code",
   "execution_count": 96,
   "metadata": {},
   "outputs": [
    {
     "name": "stdout",
     "output_type": "stream",
     "text": [
      "0.2838\n",
      "0.3131\n",
      "0.3197\n",
      "0.3273\n",
      "0.3227\n",
      "0.3253\n",
      "0.3253\n",
      "0.3258\n",
      "0.3258\n",
      "0.3293\n",
      "0.3308\n",
      "0.3303\n",
      "0.3298\n",
      "0.3328\n",
      "0.3323\n",
      "0.3308\n",
      "0.3222\n"
     ]
    }
   ],
   "source": [
    "import re\n",
    "\n",
    "fast_p10 = []\n",
    "cutoffs = list(range(1, 17)) + [123]\n",
    "for K in cutoffs:\n",
    "    filt, selected = select(sel, shard_results, K)\n",
    "    to_trec(selected, 'trec.in')\n",
    "    out = subprocess.run(\n",
    "        f'trec_eval -m all_trec -q /mnt/moa/queries/clueweb/cw09b-qrels.txt trec.in'.split(' '),\n",
    "        stdout=subprocess.PIPE)\n",
    "    for line in out.stdout.decode('UTF-8').splitlines():\n",
    "        p10_re = re.compile(r'P_10\\s+all\\s+(?P<score>[0-9]+\\.[0-9]+).*')\n",
    "        p10_match = p10_re.match(line)\n",
    "        if p10_match:\n",
    "            p10 = float(p10_match.group('score'))\n",
    "    print(p10)\n",
    "    fast_p10.append(p10)"
   ]
  },
  {
   "cell_type": "code",
   "execution_count": 98,
   "metadata": {
    "scrolled": true
   },
   "outputs": [
    {
     "data": {
      "image/png": "[encoded data removed]",
      "text/plain": [
       "<Figure size 432x288 with 1 Axes>"
      ]
     },
     "metadata": {},
     "output_type": "display_data"
    }
   ],
   "source": [
    "plt.plot(cutoffs[:7], fast_p10[:7], 's-')\n",
    "plt.plot([1, 7], fast_p10[-1:] * 2)\n",
    "plt.show()"
   ]
  }
 ],
 "metadata": {
  "kernelspec": {
   "display_name": "Python 3",
   "language": "python",
   "name": "python3"
  },
  "language_info": {
   "codemirror_mode": {
    "name": "ipython",
    "version": 3
   },
   "file_extension": ".py",
   "mimetype": "text/x-python",
   "name": "python",
   "nbconvert_exporter": "python",
   "pygments_lexer": "ipython3",
   "version": "3.6.3"
  }
 },
 "nbformat": 4,
 "nbformat_minor": 2
}
