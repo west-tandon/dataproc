{
 "cells": [
  {
   "cell_type": "code",
   "execution_count": 59,
   "metadata": {
    "collapsed": true
   },
   "outputs": [],
   "source": [
    "import pandas as pd\n",
    "import pyarrow as pa\n",
    "import pyarrow.parquet as pq\n",
    "import numpy as np\n",
    "import matplotlib.pyplot as plt\n",
    "import functools\n",
    "import operator\n",
    "from sklearn.preprocessing import StandardScaler\n",
    "\n",
    "from dataproc.data import to_svmrank"
   ]
  },
  {
   "cell_type": "code",
   "execution_count": 18,
   "metadata": {
    "collapsed": true
   },
   "outputs": [],
   "source": [
    "feature_dir = '/data/michal/experiments/oss/cw09b-dai/features/train'"
   ]
  },
  {
   "cell_type": "code",
   "execution_count": null,
   "metadata": {
    "collapsed": true,
    "scrolled": true
   },
   "outputs": [],
   "source": [
    "exhaustive_results = pq.read_table(f'{feature_dir}/train.OR.10k.results',\n",
    "                                   columns=['query', 'rank', 'gdocid', 'score']).to_pandas()"
   ]
  },
  {
   "cell_type": "markdown",
   "metadata": {},
   "source": [
    "# Ground Truth\n",
    "\n",
    "## FAST"
   ]
  },
  {
   "cell_type": "code",
   "execution_count": 42,
   "metadata": {
    "collapsed": true
   },
   "outputs": [],
   "source": [
    "ground_truths = []\n",
    "for shard in range(123):\n",
    "    shard_results = pq.read_table(f'{feature_dir}/train.OR.10k#{shard}.results-1',\n",
    "                                 columns=['query', 'gdocid']).to_pandas()\n",
    "    ground_truths.append(pd.merge(shard_results, exhaustive_results, on=['query', 'gdocid'], how='left')\n",
    "                         .groupby('query')['rank']\n",
    "                         .count()\n",
    "                         .reset_index()\n",
    "                         .assign(shard=shard))\n",
    "    del shard_results\n",
    "gt = pd.concat(ground_truths).rename(columns={'rank': 'shard_score'}).sort_values(['query', 'shard'])\n",
    "gt['rank'] = gt.groupby(['query']).rank(method='first', ascending=False)['shard_score']\n",
    "gt = gt.astype({'rank': np.int})\n",
    "gt.to_csv(f'{feature_dir}/ground_truth.csv', index=False)\n",
    "del ground_truths"
   ]
  },
  {
   "cell_type": "markdown",
   "metadata": {},
   "source": [
    "## B = 10"
   ]
  },
  {
   "cell_type": "code",
   "execution_count": 56,
   "metadata": {
    "collapsed": true
   },
   "outputs": [],
   "source": [
    "ground_truths = []\n",
    "for shard in range(123):\n",
    "    shard_results = pq.read_table(f'{feature_dir}/train.OR.10k#{shard}.results-10',\n",
    "                                 columns=['query', 'bucket', 'gdocid']).to_pandas()\n",
    "    ground_truths.append(pd.merge(shard_results, exhaustive_results, on=['query', 'gdocid'], how='left')\n",
    "                         .groupby(['query', 'bucket'])['rank']\n",
    "                         .count()\n",
    "                         .reset_index()\n",
    "                         .assign(shard=shard))\n",
    "    del shard_results\n",
    "gt_b10 = pd.concat(ground_truths).rename(columns={'rank': 'shard_score'}).sort_values(['query', 'shard', 'bucket'])\n",
    "gt_b10['rank'] = gt_b10.groupby(['query']).rank(method='first', ascending=False)['shard_score']\n",
    "gt_b10 = gt_b10.astype({'rank': np.int})\n",
    "gt_b10.to_csv(f'{feature_dir}/ground_truth_b10.csv', index=False)\n",
    "del ground_truths"
   ]
  },
  {
   "cell_type": "code",
   "execution_count": 58,
   "metadata": {
    "collapsed": true
   },
   "outputs": [
    {
     "data": {
      "text/html": [
       "<div>\n",
       "<style scoped>\n",
       "    .dataframe tbody tr th:only-of-type {\n",
       "        vertical-align: middle;\n",
       "    }\n",
       "\n",
       "    .dataframe tbody tr th {\n",
       "        vertical-align: top;\n",
       "    }\n",
       "\n",
       "    .dataframe thead th {\n",
       "        text-align: right;\n",
       "    }\n",
       "</style>\n",
       "<table border=\"1\" class=\"dataframe\">\n",
       "  <thead>\n",
       "    <tr style=\"text-align: right;\">\n",
       "      <th></th>\n",
       "      <th>query</th>\n",
       "      <th>shard_score</th>\n",
       "      <th>shard</th>\n",
       "      <th>rank</th>\n",
       "    </tr>\n",
       "    <tr>\n",
       "      <th>bucket</th>\n",
       "      <th></th>\n",
       "      <th></th>\n",
       "      <th></th>\n",
       "      <th></th>\n",
       "    </tr>\n",
       "  </thead>\n",
       "  <tbody>\n",
       "    <tr>\n",
       "      <th>0</th>\n",
       "      <td>5000.987855</td>\n",
       "      <td>0.766076</td>\n",
       "      <td>60.946607</td>\n",
       "      <td>603.689038</td>\n",
       "    </tr>\n",
       "    <tr>\n",
       "      <th>1</th>\n",
       "      <td>5000.623445</td>\n",
       "      <td>0.779839</td>\n",
       "      <td>60.946413</td>\n",
       "      <td>604.268424</td>\n",
       "    </tr>\n",
       "    <tr>\n",
       "      <th>2</th>\n",
       "      <td>5000.646211</td>\n",
       "      <td>0.757651</td>\n",
       "      <td>60.946521</td>\n",
       "      <td>606.876342</td>\n",
       "    </tr>\n",
       "    <tr>\n",
       "      <th>3</th>\n",
       "      <td>5000.995443</td>\n",
       "      <td>0.774476</td>\n",
       "      <td>60.946703</td>\n",
       "      <td>606.596544</td>\n",
       "    </tr>\n",
       "    <tr>\n",
       "      <th>4</th>\n",
       "      <td>5001.039243</td>\n",
       "      <td>0.798722</td>\n",
       "      <td>60.937937</td>\n",
       "      <td>607.023367</td>\n",
       "    </tr>\n",
       "    <tr>\n",
       "      <th>5</th>\n",
       "      <td>5000.827159</td>\n",
       "      <td>0.777437</td>\n",
       "      <td>60.955190</td>\n",
       "      <td>609.436472</td>\n",
       "    </tr>\n",
       "    <tr>\n",
       "      <th>6</th>\n",
       "      <td>5000.642178</td>\n",
       "      <td>0.781986</td>\n",
       "      <td>60.958894</td>\n",
       "      <td>611.042866</td>\n",
       "    </tr>\n",
       "    <tr>\n",
       "      <th>7</th>\n",
       "      <td>5001.071794</td>\n",
       "      <td>0.778437</td>\n",
       "      <td>60.958872</td>\n",
       "      <td>613.227744</td>\n",
       "    </tr>\n",
       "    <tr>\n",
       "      <th>8</th>\n",
       "      <td>5001.018779</td>\n",
       "      <td>0.781899</td>\n",
       "      <td>60.960126</td>\n",
       "      <td>619.108475</td>\n",
       "    </tr>\n",
       "    <tr>\n",
       "      <th>9</th>\n",
       "      <td>5000.636012</td>\n",
       "      <td>0.847903</td>\n",
       "      <td>60.826769</td>\n",
       "      <td>627.425227</td>\n",
       "    </tr>\n",
       "  </tbody>\n",
       "</table>\n",
       "</div>"
      ],
      "text/plain": [
       "              query  shard_score      shard        rank\n",
       "bucket                                                 \n",
       "0       5000.987855     0.766076  60.946607  603.689038\n",
       "1       5000.623445     0.779839  60.946413  604.268424\n",
       "2       5000.646211     0.757651  60.946521  606.876342\n",
       "3       5000.995443     0.774476  60.946703  606.596544\n",
       "4       5001.039243     0.798722  60.937937  607.023367\n",
       "5       5000.827159     0.777437  60.955190  609.436472\n",
       "6       5000.642178     0.781986  60.958894  611.042866\n",
       "7       5001.071794     0.778437  60.958872  613.227744\n",
       "8       5001.018779     0.781899  60.960126  619.108475\n",
       "9       5000.636012     0.847903  60.826769  627.425227"
      ]
     },
     "execution_count": 58,
     "metadata": {},
     "output_type": "execute_result"
    }
   ],
   "source": [
    "gt_b10.groupby('bucket').mean()"
   ]
  },
  {
   "cell_type": "markdown",
   "metadata": {},
   "source": [
    "# Shard Popularity"
   ]
  },
  {
   "cell_type": "code",
   "execution_count": 44,
   "metadata": {
    "collapsed": true
   },
   "outputs": [],
   "source": [
    "clustering_strategy = pd.read_csv(f'{feature_dir}/strategy.csv')"
   ]
  },
  {
   "cell_type": "code",
   "execution_count": 47,
   "metadata": {
    "collapsed": true
   },
   "outputs": [],
   "source": [
    "shard_popularity = (pd.merge(exhaustive_results, clustering_strategy, on='gdocid')\n",
    "                    .groupby('shard')['gdocid']\n",
    "                    .agg([('popularity', 'count')])\n",
    "                    .reset_index())\n",
    "shard_popularity.to_csv(f'{feature_dir}/shard_popularity.csv', index=False)"
   ]
  },
  {
   "cell_type": "markdown",
   "metadata": {},
   "source": [
    "# Term-Based Statistics"
   ]
  },
  {
   "cell_type": "code",
   "execution_count": 48,
   "metadata": {
    "collapsed": true
   },
   "outputs": [],
   "source": [
    "# TODO: Taily"
   ]
  },
  {
   "cell_type": "code",
   "execution_count": 50,
   "metadata": {
    "collapsed": true
   },
   "outputs": [],
   "source": [
    "champion_lists = pd.read_csv(f'{feature_dir}/champion-lists.csv')\n",
    "\n",
    "ql_body = pd.read_csv(f'{feature_dir}/query-likelihood.text.csv')\n",
    "ql_title = pd.read_csv(f'{feature_dir}/query-likelihood.title.csv')\n",
    "ql_anchor = pd.read_csv(f'{feature_dir}/query-likelihood.anchor.csv')\n",
    "ql = pd.merge(ql_body, ql_title, on=['query', 'shard'], suffixes=['', '-title'])\n",
    "ql = pd.merge(ql, ql_anchor, on=['query', 'shard'], suffixes=['-body', '-anchor'])\n",
    "del ql_body\n",
    "del ql_title\n",
    "del ql_anchor"
   ]
  },
  {
   "cell_type": "code",
   "execution_count": 52,
   "metadata": {
    "collapsed": true
   },
   "outputs": [],
   "source": [
    "qts_body = pd.read_csv(f'{feature_dir}/query-term-stats.text.csv')\n",
    "qts_title = pd.read_csv(f'{feature_dir}/query-term-stats.title.csv')\n",
    "qts_anchor = pd.read_csv(f'{feature_dir}/query-term-stats.anchor.csv')\n",
    "qts = pd.merge(qts_body, qts_title, on=['query', 'shard'], suffixes=['', '-title'])\n",
    "qts = pd.merge(qts, qts_anchor, on=['query', 'shard'], suffixes=['-body', '-anchor'])\n",
    "del qts_body\n",
    "del qts_title\n",
    "del qts_anchor"
   ]
  },
  {
   "cell_type": "code",
   "execution_count": 53,
   "metadata": {
    "collapsed": true
   },
   "outputs": [],
   "source": [
    "bilogfq = pd.read_csv(f'{feature_dir}/bigram-log-frequency.text.csv')"
   ]
  },
  {
   "cell_type": "markdown",
   "metadata": {},
   "source": [
    "# Cost Models"
   ]
  },
  {
   "cell_type": "code",
   "execution_count": 54,
   "metadata": {
    "collapsed": true
   },
   "outputs": [],
   "source": [
    "shard_size_costs = pd.read_csv('/data/index/dai/shard-sizes.csv')\n",
    "shard_size_costs['cost'] = shard_size_costs['shard_size'] * 100 / shard_size_costs['shard_size'].sum()\n",
    "shard_size_costs.drop(columns=['shard_size']).to_csv(f'{feature_dir}/shard-size-costs.csv', index=False)"
   ]
  },
  {
   "cell_type": "markdown",
   "metadata": {},
   "source": [
    "# Train"
   ]
  },
  {
   "cell_type": "code",
   "execution_count": null,
   "metadata": {
    "collapsed": true
   },
   "outputs": [],
   "source": [
    "df = gt[['query', 'shard', 'shard_score']]\n",
    "df = pd.merge(df, shard_popularity[['shard', 'popularity']])\n",
    "df = pd.merge(df, taily_features[['query', 'shard', 'taily', 'invrank', 'binrank']])\n",
    "df = pd.merge(df, champion_lists)\n",
    "df = pd.merge(df, ql)\n",
    "df = pd.merge(df, qts)\n",
    "df = pd.merge(df, bilogfq)\n",
    "df['query'] += 1\n",
    "to_svmrank(df.sort_values(['query', 'shard']), f'{feature_dir}/fast.features.svmrank')"
   ]
  },
  {
   "cell_type": "code",
   "execution_count": null,
   "metadata": {
    "collapsed": true
   },
   "outputs": [],
   "source": [
    "def run_subprocess(cmd):\n",
    "    return subprocess.run(cmd.split())\n",
    "\n",
    "model_path = f'{feature_dir}/fast.features.model'\n",
    "run_subprocess(f'svm_rank_learn -c 1 -t 0 {feature_dir}/fast.features.svmrank {model_path}')\n",
    "# run_subprocess(f'svm_rank_classify {test_path} {model_path} {pred_path}')"
   ]
  }
 ],
 "metadata": {
  "kernelspec": {
   "display_name": "Python 3",
   "language": "python",
   "name": "python3"
  },
  "language_info": {
   "codemirror_mode": {
    "name": "ipython",
    "version": 3
   },
   "file_extension": ".py",
   "mimetype": "text/x-python",
   "name": "python",
   "nbconvert_exporter": "python",
   "pygments_lexer": "ipython3",
   "version": "3.6.3"
  }
 },
 "nbformat": 4,
 "nbformat_minor": 2
}
