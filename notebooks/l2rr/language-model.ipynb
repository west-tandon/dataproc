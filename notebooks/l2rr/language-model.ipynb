{
 "cells": [
  {
   "cell_type": "code",
   "execution_count": 75,
   "metadata": {
    "collapsed": true
   },
   "outputs": [],
   "source": [
    "import nltk\n",
    "import re\n",
    "from nltk import bigrams, trigrams\n",
    "from collections import Counter, defaultdict"
   ]
  },
  {
   "cell_type": "markdown",
   "metadata": {},
   "source": [
    "# Cleanup\n",
    "\n",
    "We use all 40k queries from Million Query Track. First, we want to clean up the queries to exclude special characters or any characters that cannot be parsed by mg4j."
   ]
  },
  {
   "cell_type": "code",
   "execution_count": 69,
   "metadata": {
    "collapsed": true
   },
   "outputs": [],
   "source": [
    "def cleanup(query, sep=' '):\n",
    "    return sep.join(nltk.word_tokenize(re.sub(r'[~`!@#$%^&*()_\\-+=\\'\";:,.<>/?]', ' ', query.strip())))\n",
    "\n",
    "with open('/data/queries/train/mq.all', 'r', encoding='ISO-8859-1') as inp,\\\n",
    "     open('/data/queries/train/mq.all.clean', 'w', encoding='UTF-8') as out,\\\n",
    "     open('/data/queries/train/mq.all.clean.or', 'w', encoding='UTF-8') as or_out:\n",
    "    for line in inp:\n",
    "        print(cleanup(line), file=out)\n",
    "        print(cleanup(line, sep=' OR '), file=or_out)"
   ]
  },
  {
   "cell_type": "markdown",
   "metadata": {},
   "source": [
    "# Learn Model"
   ]
  },
  {
   "cell_type": "code",
   "execution_count": 81,
   "metadata": {
    "collapsed": true
   },
   "outputs": [],
   "source": [
    "with open('/data/queries/train/mq.all.clean', 'r', encoding='UTF-8') as inp:\n",
    "    queries = [line.strip().split() for line in inp]"
   ]
  },
  {
   "cell_type": "markdown",
   "metadata": {},
   "source": [
    "## Trigram"
   ]
  },
  {
   "cell_type": "code",
   "execution_count": 93,
   "metadata": {
    "collapsed": true
   },
   "outputs": [],
   "source": [
    "trigram_model = defaultdict(lambda: defaultdict(lambda: 0))\n",
    "\n",
    "for query in queries:\n",
    "    for w1, w2, w3 in trigrams(query, pad_right=True, pad_left=True):\n",
    "        trigram_model[(w1, w2)][w3] += 1\n",
    " \n",
    "for w1_w2 in trigram_model:\n",
    "    total_count = float(sum(trigram_model[w1_w2].values()))\n",
    "    for w3 in trigram_model[w1_w2]:\n",
    "        trigram_model[w1_w2][w3] /= total_count"
   ]
  },
  {
   "cell_type": "markdown",
   "metadata": {},
   "source": [
    "# Bigram"
   ]
  },
  {
   "cell_type": "code",
   "execution_count": 94,
   "metadata": {
    "collapsed": true
   },
   "outputs": [],
   "source": [
    "bigram_model = defaultdict(lambda: defaultdict(lambda: 0))\n",
    "\n",
    "for query in queries:\n",
    "    for w1, w2 in bigrams(query, pad_right=True, pad_left=True):\n",
    "        bigram_model[w1][w2] += 1\n",
    " \n",
    "for w1 in bigram_model:\n",
    "    total_count = float(sum(bigram_model[w1].values()))\n",
    "    for w2 in bigram_model[w1]:\n",
    "        bigram_model[w1][w2] /= total_count"
   ]
  },
  {
   "cell_type": "markdown",
   "metadata": {},
   "source": [
    "# Unigram"
   ]
  },
  {
   "cell_type": "code",
   "execution_count": 98,
   "metadata": {
    "collapsed": true
   },
   "outputs": [],
   "source": [
    "unigram_model = defaultdict(lambda: 0)\n",
    "\n",
    "for query in queries:\n",
    "    for w in query:\n",
    "        unigram_model[w] += 1\n",
    "        \n",
    "total_count = float(sum(unigram_model.values()))\n",
    "for w in unigram_model:\n",
    "    unigram_model[w] /= total_count"
   ]
  },
  {
   "cell_type": "markdown",
   "metadata": {},
   "source": [
    "# Generate"
   ]
  },
  {
   "cell_type": "code",
   "execution_count": null,
   "metadata": {
    "collapsed": true
   },
   "outputs": [],
   "source": [
    "import random\n",
    "\n",
    "def generate3(model):\n",
    "    text = [None, None]\n",
    "    sentence_finished = False\n",
    "    while not sentence_finished:\n",
    "        r = random.random()\n",
    "        accumulator = .0\n",
    "\n",
    "        for word in model[tuple(text[-2:])].keys():\n",
    "            accumulator += model[tuple(text[-2:])][word]\n",
    "            if accumulator >= r:\n",
    "                text.append(word)\n",
    "                break\n",
    "\n",
    "        if text[-2:] == [None, None]:\n",
    "            sentence_finished = True\n",
    "    return ' '.join([t for t in text if t])\n",
    "\n",
    "def generate2(model):\n",
    "    text = [None]\n",
    "    sentence_finished = False\n",
    "    while not sentence_finished:\n",
    "        r = random.random()\n",
    "        accumulator = .0\n",
    "\n",
    "        for word in model[text[-1]].keys():\n",
    "            accumulator += model[text[-1]][word]\n",
    "            if accumulator >= r:\n",
    "                text.append(word)\n",
    "                break\n",
    "\n",
    "        if text[-1:] == [None]:\n",
    "            sentence_finished = True\n",
    "    return ' '.join([t for t in text if t])\n",
    "\n",
    "# def generate1(model):\n",
    "#     text = []\n",
    "#     prob = 1.0  # <- Init probability\n",
    "#     sentence_finished = False\n",
    "#     while not sentence_finished:\n",
    "#         r = random.random()\n",
    "#         accumulator = .0\n",
    "\n",
    "#         for word in model.keys():\n",
    "#             accumulator += model[word]\n",
    "#             if accumulator >= r:\n",
    "#                 text.append(word)\n",
    "#                 break\n",
    "\n",
    "#         if text[-1:] == [None]:\n",
    "#             sentence_finished = True\n",
    "#     return ' '.join([t for t in text if t]), prob\n",
    "\n",
    "with open('/data/queries/train/mq.gen.bigram', 'w', encoding='UTF-8') as out:\n",
    "    for q in range(500000):\n",
    "        print(generate2(bigram_model), file=out)"
   ]
  },
  {
   "cell_type": "code",
   "execution_count": null,
   "metadata": {
    "collapsed": true
   },
   "outputs": [],
   "source": [
    "with open('/data/queries/train/mq.gen.trigram', 'w', encoding='UTF-8') as out:\n",
    "    for q in range(500000):\n",
    "        print(generate3(trigram_model), file=out)"
   ]
  },
  {
   "cell_type": "markdown",
   "metadata": {},
   "source": [
    "# OR"
   ]
  },
  {
   "cell_type": "code",
   "execution_count": 173,
   "metadata": {},
   "outputs": [],
   "source": [
    "with open('/data/queries/train/mq.gen.bigram', 'r', encoding='ISO-8859-1') as inp,\\\n",
    "     open('/data/queries/train/mq.gen.bigram.or', 'w', encoding='UTF-8') as out:\n",
    "    for line in inp:\n",
    "        print(cleanup(line, sep=' OR '), file=out)"
   ]
  },
  {
   "cell_type": "code",
   "execution_count": 174,
   "metadata": {
    "collapsed": true
   },
   "outputs": [],
   "source": [
    "with open('/data/queries/train/mq.gen.trigram', 'r', encoding='ISO-8859-1') as inp,\\\n",
    "     open('/data/queries/train/mq.gen.trigram.or', 'w', encoding='UTF-8') as out:\n",
    "    for line in inp:\n",
    "        print(cleanup(line, sep=' OR '), file=out)"
   ]
  }
 ],
 "metadata": {
  "kernelspec": {
   "display_name": "Python 3",
   "language": "python",
   "name": "python3"
  },
  "language_info": {
   "codemirror_mode": {
    "name": "ipython",
    "version": 3
   },
   "file_extension": ".py",
   "mimetype": "text/x-python",
   "name": "python",
   "nbconvert_exporter": "python",
   "pygments_lexer": "ipython3",
   "version": "3.6.3"
  }
 },
 "nbformat": 4,
 "nbformat_minor": 2
}
