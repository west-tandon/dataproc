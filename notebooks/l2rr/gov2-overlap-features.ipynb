{
 "cells": [
  {
   "cell_type": "code",
   "execution_count": 43,
   "metadata": {
    "collapsed": true
   },
   "outputs": [],
   "source": [
    "import pandas as pd\n",
    "import pyarrow as pa\n",
    "import pyarrow.parquet as pq\n",
    "import numpy as np\n",
    "import matplotlib.pyplot as plt\n",
    "import functools\n",
    "import operator\n",
    "import subprocess\n",
    "from sklearn.preprocessing import StandardScaler\n",
    "\n",
    "from dataproc.data import to_svmrank, scale_features, to_trec\n",
    "from dataproc.selectivesearch import (load_shard_selection,\n",
    "                                      load_bucket_selection,\n",
    "                                      select,\n",
    "                                      select_buckets)\n",
    "\n",
    "def calc_taily_features(taily_scores):\n",
    "    tf = taily_scores.copy()\n",
    "    tf['rank'] = tf.groupby('query').rank(method='first', ascending=False)['taily']\n",
    "    tf['invrank'] = 1 / tf['rank']\n",
    "    tf['binrank'] = np.ceil(tf['rank'] / 10)\n",
    "    return tf\n",
    "\n",
    "feature_dir = '/data/michal/experiments/oss/gov2-dai/features/mq'"
   ]
  },
  {
   "cell_type": "code",
   "execution_count": 2,
   "metadata": {
    "collapsed": true
   },
   "outputs": [],
   "source": [
    "exhaustive_results = pq.read_table(f'{feature_dir}/mq.08.clean.or.results',\n",
    "                                   columns=['query', 'rank', 'gdocid', 'score']).to_pandas()"
   ]
  },
  {
   "cell_type": "markdown",
   "metadata": {},
   "source": [
    "# Ground Truth\n",
    "\n",
    "## FAST"
   ]
  },
  {
   "cell_type": "code",
   "execution_count": 3,
   "metadata": {
    "collapsed": true
   },
   "outputs": [],
   "source": [
    "ground_truths = []\n",
    "for shard in range(123):\n",
    "    shard_results = pq.read_table(f'{feature_dir}/mq.08.clean.or#{shard}.results-1',\n",
    "                                 columns=['query', 'gdocid']).to_pandas()\n",
    "    ground_truths.append(pd.merge(shard_results, exhaustive_results, on=['query', 'gdocid'], how='left')\n",
    "                         .groupby('query')['rank']\n",
    "                         .count()\n",
    "                         .reset_index()\n",
    "                         .assign(shard=shard))\n",
    "    del shard_results\n",
    "gt = pd.concat(ground_truths).rename(columns={'rank': 'shard_score'}).sort_values(['query', 'shard'])\n",
    "gt['rank'] = gt.groupby(['query']).rank(method='first', ascending=False)['shard_score']\n",
    "gt = gt.astype({'rank': np.int})\n",
    "gt.to_csv(f'{feature_dir}/ground_truth.csv', index=False)\n",
    "del ground_truths"
   ]
  },
  {
   "cell_type": "markdown",
   "metadata": {},
   "source": [
    "## B=10"
   ]
  },
  {
   "cell_type": "code",
   "execution_count": 4,
   "metadata": {
    "collapsed": true
   },
   "outputs": [],
   "source": [
    "ground_truths = []\n",
    "for shard in range(123):\n",
    "    shard_results = pq.read_table(f'{feature_dir}/mq.08.clean.or#{shard}.results-10',\n",
    "                                 columns=['query', 'bucket', 'gdocid']).to_pandas()\n",
    "    ground_truths.append(pd.merge(shard_results, exhaustive_results, on=['query', 'gdocid'], how='left')\n",
    "                         .groupby(['query', 'bucket'])['rank']\n",
    "                         .count()\n",
    "                         .reset_index()\n",
    "                         .assign(shard=shard))\n",
    "    del shard_results\n",
    "gt_b10 = pd.concat(ground_truths).rename(columns={'rank': 'shard_score'}).sort_values(['query', 'shard', 'bucket'])\n",
    "gt_b10['rank'] = gt_b10.groupby(['query']).rank(method='first', ascending=False)['shard_score']\n",
    "gt_b10 = gt_b10.astype({'rank': np.int})\n",
    "gt_b10.to_csv(f'{feature_dir}/ground_truth_b10.csv', index=False)\n",
    "del ground_truths"
   ]
  },
  {
   "cell_type": "markdown",
   "metadata": {},
   "source": [
    "# Shard Popularity"
   ]
  },
  {
   "cell_type": "code",
   "execution_count": 5,
   "metadata": {
    "collapsed": true
   },
   "outputs": [],
   "source": [
    "clustering_strategy = pd.read_csv(f'{feature_dir}/strategy.csv')\n",
    "shard_popularity = (pd.merge(exhaustive_results, clustering_strategy, on='gdocid')\n",
    "                    .groupby('shard')['gdocid']\n",
    "                    .agg([('popularity', 'count')])\n",
    "                    .reset_index())\n",
    "shard_popularity.to_csv(f'{feature_dir}/shard_popularity.csv', index=False)"
   ]
  },
  {
   "cell_type": "markdown",
   "metadata": {},
   "source": [
    "# Term-Based Statistics"
   ]
  },
  {
   "cell_type": "code",
   "execution_count": 6,
   "metadata": {
    "collapsed": true
   },
   "outputs": [],
   "source": [
    "taily = pq.read_table(f'{feature_dir}/mq.08.clean.or.taily').to_pandas()\n",
    "taily_features = calc_taily_features(taily)\n",
    "taily_features.to_csv(f'{feature_dir}/taily_features.csv', index=False)"
   ]
  },
  {
   "cell_type": "code",
   "execution_count": 7,
   "metadata": {},
   "outputs": [],
   "source": [
    "champion_lists = pd.read_csv(f'{feature_dir}/champion-lists.csv')\n",
    "\n",
    "ql_body = pd.read_csv(f'{feature_dir}/query-likelihood.text.csv')\n",
    "ql_title = pd.read_csv(f'{feature_dir}/query-likelihood.title.csv')\n",
    "ql_anchor = pd.read_csv(f'{feature_dir}/query-likelihood.anchor.csv')\n",
    "ql = pd.merge(ql_body, ql_title, on=['query', 'shard'], suffixes=['', '-title'])\n",
    "ql = pd.merge(ql, ql_anchor, on=['query', 'shard'], suffixes=['-body', '-anchor'])\n",
    "del ql_body\n",
    "del ql_title\n",
    "del ql_anchor\n",
    "\n",
    "qts_body = pd.read_csv(f'{feature_dir}/query-term-stats.text.csv')\n",
    "qts_title = pd.read_csv(f'{feature_dir}/query-term-stats.title.csv')\n",
    "qts_anchor = pd.read_csv(f'{feature_dir}/query-term-stats.anchor.csv')\n",
    "qts = pd.merge(qts_body, qts_title, on=['query', 'shard'], suffixes=['', '-title'])\n",
    "qts = pd.merge(qts, qts_anchor, on=['query', 'shard'], suffixes=['-body', '-anchor'])\n",
    "del qts_body\n",
    "del qts_title\n",
    "del qts_anchor\n",
    "\n",
    "bilogfq = pd.read_csv(f'{feature_dir}/bigram-log-frequency.text.csv')"
   ]
  },
  {
   "cell_type": "markdown",
   "metadata": {},
   "source": [
    "# Train\n",
    "\n",
    "## B=1"
   ]
  },
  {
   "cell_type": "code",
   "execution_count": 10,
   "metadata": {},
   "outputs": [],
   "source": [
    "df = gt[['query', 'shard', 'shard_score']]\n",
    "df = pd.merge(df, shard_popularity[['shard', 'popularity']])\n",
    "df = pd.merge(df, taily_features[['query', 'shard', 'taily', 'invrank', 'binrank']])\n",
    "df = pd.merge(df, champion_lists)\n",
    "df = pd.merge(df, ql)\n",
    "df = pd.merge(df, qts)\n",
    "df = pd.merge(df, bilogfq)\n",
    "df['query'] += 701\n",
    "data, scaler = scale_features(df, exclude=['query', 'shard_score', 'shard', 'bucket'])"
   ]
  },
  {
   "cell_type": "code",
   "execution_count": 12,
   "metadata": {},
   "outputs": [],
   "source": [
    "import pickle\n",
    "with open(f'{feature_dir}/fast.features.scaler', 'bw') as f:\n",
    "    pickle.dump(scaler, f)\n",
    "to_svmrank(data.sort_values(['query', 'shard']), f'{feature_dir}/fast.features.svmrank')"
   ]
  },
  {
   "cell_type": "code",
   "execution_count": 13,
   "metadata": {},
   "outputs": [
    {
     "data": {
      "text/plain": [
       "CompletedProcess(args=['svm_rank_learn', '-c', '1', '-t', '0', '/data/michal/experiments/oss/gov2-dai/features/mq/fast.features.svmrank', '/data/michal/experiments/oss/gov2-dai/features/mq/fast.features.model'], returncode=0)"
      ]
     },
     "execution_count": 13,
     "metadata": {},
     "output_type": "execute_result"
    }
   ],
   "source": [
    "def run_subprocess(cmd):\n",
    "    return subprocess.run(cmd.split())\n",
    "\n",
    "model_path = f'{feature_dir}/fast.features.model'\n",
    "run_subprocess(f'svm_rank_learn -c 1 -t 0 {feature_dir}/fast.features.svmrank {model_path}')"
   ]
  },
  {
   "cell_type": "markdown",
   "metadata": {},
   "source": [
    "# Evaluate"
   ]
  },
  {
   "cell_type": "code",
   "execution_count": 75,
   "metadata": {},
   "outputs": [],
   "source": [
    "import tempfile\n",
    "import re\n",
    "\n",
    "def trec_eval(selected, qrels_path):\n",
    "    with open('/tmp/x', 'wb') as trec_file:\n",
    "        to_trec(selected, str(trec_file.name))\n",
    "        out = subprocess.run(\n",
    "            f'trec_eval -q {qrels_path} {trec_file.name}'.split(' '),\n",
    "            stdout=subprocess.PIPE)\n",
    "        p10, map_measure = None, None\n",
    "        for line in out.stdout.decode('UTF-8').splitlines():\n",
    "            p10_re = re.compile(r'P_10\\s+all\\s+(?P<score>[0-9]+\\.[0-9]+).*')\n",
    "            map_re = re.compile(r'map\\s+all\\s+(?P<score>[0-9]+\\.[0-9]+).*')\n",
    "            p10_match = p10_re.match(line)\n",
    "            map_match = map_re.match(line)\n",
    "            if p10_match:\n",
    "                p10 = float(p10_match.group('score'))\n",
    "            if map_match:\n",
    "                map_measure = float(map_match.group('score'))\n",
    "        return p10, map_measure"
   ]
  },
  {
   "cell_type": "code",
   "execution_count": 28,
   "metadata": {},
   "outputs": [],
   "source": [
    "trec_fast = pd.read_csv(f'{feature_dir}/../trec/fast.features.csv')\n",
    "trec_fast, _ = scale_features(trec_fast, scaler=scaler, exclude=['query', 'shard_score', 'shard', 'bucket'])\n",
    "to_svmrank(trec_fast.sort_values(['query', 'shard']), f'{feature_dir}/fast.features.test.svmrank')"
   ]
  },
  {
   "cell_type": "code",
   "execution_count": 29,
   "metadata": {},
   "outputs": [
    {
     "data": {
      "text/plain": [
       "CompletedProcess(args=['svm_rank_classify', '/data/michal/experiments/oss/gov2-dai/features/mq/fast.features.test.svmrank', '/data/michal/experiments/oss/gov2-dai/features/mq/fast.features.model', '/data/michal/experiments/oss/gov2-dai/features/mq/fast.features.test.pred'], returncode=0)"
      ]
     },
     "execution_count": 29,
     "metadata": {},
     "output_type": "execute_result"
    }
   ],
   "source": [
    "run_subprocess(f'svm_rank_classify {feature_dir}/fast.features.test.svmrank '\n",
    "               f'{feature_dir}/fast.features.model '\n",
    "               f'{feature_dir}/fast.features.test.pred')"
   ]
  },
  {
   "cell_type": "code",
   "execution_count": 79,
   "metadata": {
    "collapsed": true
   },
   "outputs": [],
   "source": [
    "size_costs = pd.read_csv(f'{feature_dir}/../trec/shard-size-costs.csv')\n",
    "posting_costs = pd.read_csv(f'{feature_dir}/../trec/shard-posting-costs.csv')\n",
    "posting_costs_frac = pd.read_csv(f'{feature_dir}/../trec/shard-posting-costs-frac.csv')"
   ]
  },
  {
   "cell_type": "code",
   "execution_count": 87,
   "metadata": {},
   "outputs": [],
   "source": [
    "trec_shard_selection = load_shard_selection(range(701, 851), 199, f'{feature_dir}/fast.features.test.pred')\n",
    "trec_shard_selection = pd.merge(trec_shard_selection, size_costs).rename(columns={'cost': 'size_cost'})\n",
    "trec_shard_selection = pd.merge(trec_shard_selection, posting_costs).rename(columns={'cost': 'posting_cost'})\n",
    "trec_shard_selection = pd.merge(trec_shard_selection, posting_costs_frac).rename(columns={'cost': 'posting_cost_frac'})\n",
    "trec_shard_selection['cost'] = 1\n",
    "trec_shard_selection['unit_cost'] = 1\n",
    "shard_results = pq.read_table(f'{feature_dir}/../trec/shard_results.parquet').to_pandas()"
   ]
  },
  {
   "cell_type": "code",
   "execution_count": 93,
   "metadata": {},
   "outputs": [],
   "source": [
    "fast = []\n",
    "for budget in list(range(1, 21)) + [123]:\n",
    "    filtered_selection, selected = select(trec_shard_selection, shard_results, budget, nonempty=False)\n",
    "    g = filtered_selection.groupby('query')\n",
    "    unit_cost = g['unit_cost'].sum().mean()\n",
    "    size_cost = g['size_cost'].sum().mean()\n",
    "    posting_cost = g['posting_cost'].sum().mean()\n",
    "    posting_cost_frac = g['posting_cost_frac'].sum().mean()\n",
    "    p10, mAP = trec_eval(selected, '/data/queries/gov2/gov2-qrels.txt')\n",
    "    fast.append((budget, p10, mAP, unit_cost, posting_cost, posting_cost_frac))\n",
    "fastpd = pd.DataFrame(fast, columns=['budget', 'p10', 'map', 'unit_cost', 'posting_cost', 'posting_cost_frac'])"
   ]
  },
  {
   "cell_type": "code",
   "execution_count": 94,
   "metadata": {},
   "outputs": [
    {
     "data": {
      "text/html": [
       "<div>\n",
       "<style scoped>\n",
       "    .dataframe tbody tr th:only-of-type {\n",
       "        vertical-align: middle;\n",
       "    }\n",
       "\n",
       "    .dataframe tbody tr th {\n",
       "        vertical-align: top;\n",
       "    }\n",
       "\n",
       "    .dataframe thead th {\n",
       "        text-align: right;\n",
       "    }\n",
       "</style>\n",
       "<table border=\"1\" class=\"dataframe\">\n",
       "  <thead>\n",
       "    <tr style=\"text-align: right;\">\n",
       "      <th></th>\n",
       "      <th>budget</th>\n",
       "      <th>p10</th>\n",
       "      <th>map</th>\n",
       "      <th>unit_cost</th>\n",
       "      <th>posting_cost</th>\n",
       "      <th>posting_cost_frac</th>\n",
       "    </tr>\n",
       "  </thead>\n",
       "  <tbody>\n",
       "    <tr>\n",
       "      <th>0</th>\n",
       "      <td>1</td>\n",
       "      <td>0.2263</td>\n",
       "      <td>0.0689</td>\n",
       "      <td>1.0</td>\n",
       "      <td>52.781240</td>\n",
       "      <td>2.280075</td>\n",
       "    </tr>\n",
       "    <tr>\n",
       "      <th>1</th>\n",
       "      <td>2</td>\n",
       "      <td>0.2527</td>\n",
       "      <td>0.0838</td>\n",
       "      <td>2.0</td>\n",
       "      <td>97.066953</td>\n",
       "      <td>3.886414</td>\n",
       "    </tr>\n",
       "    <tr>\n",
       "      <th>2</th>\n",
       "      <td>3</td>\n",
       "      <td>0.2960</td>\n",
       "      <td>0.0966</td>\n",
       "      <td>3.0</td>\n",
       "      <td>142.323433</td>\n",
       "      <td>5.200362</td>\n",
       "    </tr>\n",
       "    <tr>\n",
       "      <th>3</th>\n",
       "      <td>4</td>\n",
       "      <td>0.3322</td>\n",
       "      <td>0.1198</td>\n",
       "      <td>4.0</td>\n",
       "      <td>182.580953</td>\n",
       "      <td>6.434855</td>\n",
       "    </tr>\n",
       "    <tr>\n",
       "      <th>4</th>\n",
       "      <td>5</td>\n",
       "      <td>0.3611</td>\n",
       "      <td>0.1315</td>\n",
       "      <td>5.0</td>\n",
       "      <td>220.814160</td>\n",
       "      <td>7.714033</td>\n",
       "    </tr>\n",
       "    <tr>\n",
       "      <th>5</th>\n",
       "      <td>6</td>\n",
       "      <td>0.3765</td>\n",
       "      <td>0.1346</td>\n",
       "      <td>6.0</td>\n",
       "      <td>254.518793</td>\n",
       "      <td>9.027956</td>\n",
       "    </tr>\n",
       "    <tr>\n",
       "      <th>6</th>\n",
       "      <td>7</td>\n",
       "      <td>0.3987</td>\n",
       "      <td>0.1401</td>\n",
       "      <td>7.0</td>\n",
       "      <td>295.885187</td>\n",
       "      <td>10.147817</td>\n",
       "    </tr>\n",
       "    <tr>\n",
       "      <th>7</th>\n",
       "      <td>8</td>\n",
       "      <td>0.4195</td>\n",
       "      <td>0.1480</td>\n",
       "      <td>8.0</td>\n",
       "      <td>335.133747</td>\n",
       "      <td>11.336161</td>\n",
       "    </tr>\n",
       "    <tr>\n",
       "      <th>8</th>\n",
       "      <td>9</td>\n",
       "      <td>0.4255</td>\n",
       "      <td>0.1524</td>\n",
       "      <td>9.0</td>\n",
       "      <td>370.931587</td>\n",
       "      <td>12.448383</td>\n",
       "    </tr>\n",
       "    <tr>\n",
       "      <th>9</th>\n",
       "      <td>10</td>\n",
       "      <td>0.4396</td>\n",
       "      <td>0.1585</td>\n",
       "      <td>10.0</td>\n",
       "      <td>413.072727</td>\n",
       "      <td>13.529804</td>\n",
       "    </tr>\n",
       "    <tr>\n",
       "      <th>10</th>\n",
       "      <td>11</td>\n",
       "      <td>0.4430</td>\n",
       "      <td>0.1613</td>\n",
       "      <td>11.0</td>\n",
       "      <td>451.418480</td>\n",
       "      <td>14.454731</td>\n",
       "    </tr>\n",
       "    <tr>\n",
       "      <th>11</th>\n",
       "      <td>12</td>\n",
       "      <td>0.4403</td>\n",
       "      <td>0.1625</td>\n",
       "      <td>12.0</td>\n",
       "      <td>492.949433</td>\n",
       "      <td>15.397802</td>\n",
       "    </tr>\n",
       "    <tr>\n",
       "      <th>12</th>\n",
       "      <td>13</td>\n",
       "      <td>0.4430</td>\n",
       "      <td>0.1658</td>\n",
       "      <td>13.0</td>\n",
       "      <td>528.828847</td>\n",
       "      <td>16.329124</td>\n",
       "    </tr>\n",
       "    <tr>\n",
       "      <th>13</th>\n",
       "      <td>14</td>\n",
       "      <td>0.4430</td>\n",
       "      <td>0.1662</td>\n",
       "      <td>14.0</td>\n",
       "      <td>568.449127</td>\n",
       "      <td>17.234709</td>\n",
       "    </tr>\n",
       "    <tr>\n",
       "      <th>14</th>\n",
       "      <td>15</td>\n",
       "      <td>0.4423</td>\n",
       "      <td>0.1673</td>\n",
       "      <td>15.0</td>\n",
       "      <td>603.690027</td>\n",
       "      <td>18.021859</td>\n",
       "    </tr>\n",
       "    <tr>\n",
       "      <th>15</th>\n",
       "      <td>16</td>\n",
       "      <td>0.4497</td>\n",
       "      <td>0.1719</td>\n",
       "      <td>16.0</td>\n",
       "      <td>638.233867</td>\n",
       "      <td>18.906645</td>\n",
       "    </tr>\n",
       "    <tr>\n",
       "      <th>16</th>\n",
       "      <td>17</td>\n",
       "      <td>0.4523</td>\n",
       "      <td>0.1738</td>\n",
       "      <td>17.0</td>\n",
       "      <td>677.439020</td>\n",
       "      <td>19.772182</td>\n",
       "    </tr>\n",
       "    <tr>\n",
       "      <th>17</th>\n",
       "      <td>18</td>\n",
       "      <td>0.4544</td>\n",
       "      <td>0.1741</td>\n",
       "      <td>18.0</td>\n",
       "      <td>709.308533</td>\n",
       "      <td>20.583044</td>\n",
       "    </tr>\n",
       "    <tr>\n",
       "      <th>18</th>\n",
       "      <td>19</td>\n",
       "      <td>0.4611</td>\n",
       "      <td>0.1777</td>\n",
       "      <td>19.0</td>\n",
       "      <td>750.935080</td>\n",
       "      <td>21.524836</td>\n",
       "    </tr>\n",
       "    <tr>\n",
       "      <th>19</th>\n",
       "      <td>20</td>\n",
       "      <td>0.4638</td>\n",
       "      <td>0.1808</td>\n",
       "      <td>20.0</td>\n",
       "      <td>784.184300</td>\n",
       "      <td>22.421736</td>\n",
       "    </tr>\n",
       "    <tr>\n",
       "      <th>20</th>\n",
       "      <td>123</td>\n",
       "      <td>0.5732</td>\n",
       "      <td>0.2862</td>\n",
       "      <td>123.0</td>\n",
       "      <td>3469.873893</td>\n",
       "      <td>71.798920</td>\n",
       "    </tr>\n",
       "  </tbody>\n",
       "</table>\n",
       "</div>"
      ],
      "text/plain": [
       "    budget     p10     map  unit_cost  posting_cost  posting_cost_frac\n",
       "0        1  0.2263  0.0689        1.0     52.781240           2.280075\n",
       "1        2  0.2527  0.0838        2.0     97.066953           3.886414\n",
       "2        3  0.2960  0.0966        3.0    142.323433           5.200362\n",
       "3        4  0.3322  0.1198        4.0    182.580953           6.434855\n",
       "4        5  0.3611  0.1315        5.0    220.814160           7.714033\n",
       "5        6  0.3765  0.1346        6.0    254.518793           9.027956\n",
       "6        7  0.3987  0.1401        7.0    295.885187          10.147817\n",
       "7        8  0.4195  0.1480        8.0    335.133747          11.336161\n",
       "8        9  0.4255  0.1524        9.0    370.931587          12.448383\n",
       "9       10  0.4396  0.1585       10.0    413.072727          13.529804\n",
       "10      11  0.4430  0.1613       11.0    451.418480          14.454731\n",
       "11      12  0.4403  0.1625       12.0    492.949433          15.397802\n",
       "12      13  0.4430  0.1658       13.0    528.828847          16.329124\n",
       "13      14  0.4430  0.1662       14.0    568.449127          17.234709\n",
       "14      15  0.4423  0.1673       15.0    603.690027          18.021859\n",
       "15      16  0.4497  0.1719       16.0    638.233867          18.906645\n",
       "16      17  0.4523  0.1738       17.0    677.439020          19.772182\n",
       "17      18  0.4544  0.1741       18.0    709.308533          20.583044\n",
       "18      19  0.4611  0.1777       19.0    750.935080          21.524836\n",
       "19      20  0.4638  0.1808       20.0    784.184300          22.421736\n",
       "20     123  0.5732  0.2862      123.0   3469.873893          71.798920"
      ]
     },
     "execution_count": 94,
     "metadata": {},
     "output_type": "execute_result"
    }
   ],
   "source": [
    "fastpd"
   ]
  }
 ],
 "metadata": {
  "kernelspec": {
   "display_name": "Python 3",
   "language": "python",
   "name": "python3"
  },
  "language_info": {
   "codemirror_mode": {
    "name": "ipython",
    "version": 3
   },
   "file_extension": ".py",
   "mimetype": "text/x-python",
   "name": "python",
   "nbconvert_exporter": "python",
   "pygments_lexer": "ipython3",
   "version": "3.6.3"
  }
 },
 "nbformat": 4,
 "nbformat_minor": 2
}
